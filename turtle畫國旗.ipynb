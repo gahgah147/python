{
 "cells": [
  {
   "cell_type": "markdown",
   "metadata": {},
   "source": [
    "這邊是因為看到這篇文章\n",
    "https://medium.com/%E5%BD%BC%E5%BE%97%E6%BD%98%E7%9A%84-swift-ios-app-%E9%96%8B%E7%99%BC%E6%95%99%E5%AE%A4/ios-app-%E4%BD%9C%E6%A5%AD-%E7%94%A8%E7%A8%8B%E5%BC%8F%E7%95%AB%E5%9C%8B%E6%97%97-a2e7feea455d\n",
    "想照著操作看看\n",
    "但是白日的部分沒有填滿 \n"
   ]
  },
  {
   "cell_type": "code",
   "execution_count": 1,
   "metadata": {},
   "outputs": [],
   "source": [
    "import turtle #引進turtle函式庫\n",
    "turtle.speed(5)  #設定畫筆速度\n",
    "turtle.shape(\"turtle\")\n",
    "#定義畫長方形的方法\n",
    "def rectangle(x,y,leng,wid,color):\n",
    "  #定義\"rectangle\"函式有五個變數輸入，xy是起點座標，leng跟wid是長跟寬，\n",
    "  #color是顏色\n",
    "  turtle.color(color)     #設定顏色為參數傳入的顏色\n",
    "  turtle.penup()          #畫筆拿起來\n",
    "  turtle.goto(x,y)        #移動到起點位置x,y\n",
    "  turtle.down()           #下筆開始畫\n",
    "  turtle.begin_fill()     #開始填滿\n",
    "  turtle.forward(leng)    #前進leng的長度\n",
    "  turtle.right(90)        #右轉90度\n",
    "  turtle.forward(wid)     #前進wid的長度\n",
    "  turtle.right(90)        #右轉90度\n",
    "  turtle.forward(leng)    #前進leng的長度\n",
    "  turtle.right(90)        #右轉90度\n",
    "  turtle.forward(wid)     #前進wid的長度\n",
    "  turtle.right(90)        #右轉90度\n",
    "  turtle.end_fill()       #結束填滿\n",
    "rectangle(-200,200,600,400,'red')\n",
    "#從(-200,200)開始畫一個長600寬400，紅色的長方形\n",
    "rectangle(-200,200,300,200,'blue')\n",
    "#從(-200,200)開始畫一個長300寬200，藍色的長方形\n",
    "#定義畫太陽的方法\n",
    "# noinspection PyUnreachableCode\n",
    "turtle.up()\n",
    "\n",
    "def sun(x,y,length,color):\n",
    "    turtle.color(color)  #設定顏色為color\n",
    "    turtle.goto(x,y)     #移動到(x,y)\n",
    "\n",
    "    turtle.setheading(345)   #面向345度的方向\n",
    "    turtle.down()            #下筆開始畫\n",
    "    turtle.begin_fill()      #開始填滿\n",
    "    counter=0                #計數器=0\n",
    "    while True:              #無線迴圈\n",
    "        if counter >= 12:  # 如果計數器大於或等於12\n",
    "            break\n",
    "        else:\n",
    "            turtle.forward(length)  # 往前length的距離\n",
    "            turtle.left(150)  # 左轉150度\n",
    "            counter+=1                #計數器+1\n",
    "turtle.up()\n",
    "turtle.end_fill()  # 結束填滿\n",
    "\n",
    "sun(-150,100,170,'white')    #從(-150,100)開始畫一個175大小的白色太陽turtle.up()                  #筆拿起來\n",
    "#畫圓\n",
    "turtle.color('blue')  #藍色\n",
    "turtle.goto(-104,100) #設定起點座標\n",
    "turtle.setheading(270) #面向270度方向\n",
    "turtle.down()         #下筆\n",
    "turtle.pensize(10)    #筆的粗細調成10\n",
    "turtle.circle(44)     #畫一個半徑44的圓\n",
    "turtle.up()           #筆拿起來\n",
    "turtle.mainloop()"
   ]
  },
  {
   "cell_type": "code",
   "execution_count": null,
   "metadata": {},
   "outputs": [],
   "source": []
  }
 ],
 "metadata": {
  "kernelspec": {
   "display_name": "Python 3",
   "language": "python",
   "name": "python3"
  },
  "language_info": {
   "codemirror_mode": {
    "name": "ipython",
    "version": 3
   },
   "file_extension": ".py",
   "mimetype": "text/x-python",
   "name": "python",
   "nbconvert_exporter": "python",
   "pygments_lexer": "ipython3",
   "version": "3.7.4"
  }
 },
 "nbformat": 4,
 "nbformat_minor": 2
}
